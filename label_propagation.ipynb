{
 "cells": [
  {
   "cell_type": "markdown",
   "metadata": {},
   "source": [
    "### Label propagation using CNN feature extraction "
   ]
  },
  {
   "cell_type": "code",
   "execution_count": 1,
   "metadata": {},
   "outputs": [],
   "source": [
    "from data_processor import train_loader, test_loader, unlabeled_loader\n",
    "import torch\n",
    "import torch.nn as nn\n",
    "from torchvision import models\n",
    "import matplotlib.pyplot as plt\n",
    "import numpy as np\n",
    "from sklearn import datasets\n",
    "from sklearn.semi_supervised import LabelSpreading\n",
    "from models import CNNet"
   ]
  },
  {
   "cell_type": "code",
   "execution_count": 2,
   "metadata": {},
   "outputs": [
    {
     "name": "stderr",
     "output_type": "stream",
     "text": [
      "/home/khalifa/.local/lib/python3.7/site-packages/torch/serialization.py:593: SourceChangeWarning: source code of class 'models.CNNet' has changed. you can retrieve the original source code by accessing the object's source attribute or set `torch.nn.Module.dump_patches = True` and use the patch tool to revert the changes.\n",
      "  warnings.warn(msg, SourceChangeWarning)\n"
     ]
    }
   ],
   "source": [
    "model = CNNet()\n",
    "model = torch.load('trained_models/trained_cnn')"
   ]
  },
  {
   "cell_type": "code",
   "execution_count": 3,
   "metadata": {},
   "outputs": [],
   "source": [
    "with torch.no_grad(): \n",
    "    batch = next(iter(train_loader))\n",
    "    images, labels = batch\n",
    "    all_out = model.get_features(images)\n",
    "    all_labels = labels \n",
    "\n",
    "    for batch in train_loader:\n",
    "        images, labels = batch \n",
    "        all_out = torch.cat((all_out, model.get_features(images)), 0)\n",
    "        all_labels = torch.cat((all_labels, labels), 0)\n",
    "\n",
    "    for batch in unlabeled_loader:\n",
    "        images, labels = batch\n",
    "        all_out = torch.cat((all_out, model.get_features(images)), 0)\n",
    "        all_labels = torch.cat((all_labels, labels+-1), 0)"
   ]
  },
  {
   "cell_type": "code",
   "execution_count": 4,
   "metadata": {},
   "outputs": [
    {
     "name": "stdout",
     "output_type": "stream",
     "text": [
      "torch.Size([14873, 50])\n",
      "torch.Size([14873])\n"
     ]
    }
   ],
   "source": [
    "print(all_out.shape)\n",
    "print(all_labels.shape)"
   ]
  },
  {
   "cell_type": "code",
   "execution_count": 5,
   "metadata": {},
   "outputs": [],
   "source": [
    "test_images, test_labels = next(iter(test_loader))\n",
    "test_features = model.get_features(test_images)\n",
    "\n",
    "with torch.no_grad(): \n",
    "    for images, labels in test_loader:\n",
    "        test_features = torch.cat((test_features, model.get_features(images)), 0)\n",
    "        test_labels = torch.cat((test_labels, labels), 0)\n",
    "        "
   ]
  },
  {
   "cell_type": "code",
   "execution_count": 6,
   "metadata": {},
   "outputs": [
    {
     "name": "stdout",
     "output_type": "stream",
     "text": [
      "torch.Size([1464, 50])\n",
      "torch.Size([1464])\n"
     ]
    }
   ],
   "source": [
    "print(test_features.shape)\n",
    "print(test_labels.shape)"
   ]
  },
  {
   "cell_type": "code",
   "execution_count": 16,
   "metadata": {},
   "outputs": [
    {
     "data": {
      "text/plain": [
       "LabelSpreading(alpha=0.01, gamma=20, kernel='knn', max_iter=50, n_jobs=None,\n",
       "        n_neighbors=100, tol=0.001)"
      ]
     },
     "execution_count": 16,
     "metadata": {},
     "output_type": "execute_result"
    }
   ],
   "source": [
    "label_prop_model = LabelSpreading(max_iter = 50, kernel = 'knn', alpha = 0.01,n_neighbors = 100, tol = .001)\n",
    "\n",
    "label_prop_model.fit(all_out.numpy(), all_labels.numpy())"
   ]
  },
  {
   "cell_type": "code",
   "execution_count": 17,
   "metadata": {},
   "outputs": [
    {
     "data": {
      "text/plain": [
       "0.9077868852459017"
      ]
     },
     "execution_count": 17,
     "metadata": {},
     "output_type": "execute_result"
    }
   ],
   "source": [
    "label_prop_model.score(test_features.numpy(), test_labels.numpy())"
   ]
  },
  {
   "cell_type": "code",
   "execution_count": null,
   "metadata": {},
   "outputs": [],
   "source": []
  }
 ],
 "metadata": {
  "kernelspec": {
   "display_name": "Python 3",
   "language": "python",
   "name": "python3"
  },
  "language_info": {
   "codemirror_mode": {
    "name": "ipython",
    "version": 3
   },
   "file_extension": ".py",
   "mimetype": "text/x-python",
   "name": "python",
   "nbconvert_exporter": "python",
   "pygments_lexer": "ipython3",
   "version": "3.7.3"
  }
 },
 "nbformat": 4,
 "nbformat_minor": 2
}
