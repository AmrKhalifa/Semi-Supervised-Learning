{
 "cells": [
  {
   "cell_type": "code",
   "execution_count": 8,
   "metadata": {},
   "outputs": [],
   "source": [
    "import torch\n",
    "from data_processor import train_loader, test_loader\n",
    "from models import FCNet, train_model, test_model, CNNet"
   ]
  },
  {
   "cell_type": "code",
   "execution_count": 2,
   "metadata": {},
   "outputs": [],
   "source": [
    "# selecting fully connected model\n",
    "fc_model = FCNet()"
   ]
  },
  {
   "cell_type": "code",
   "execution_count": 3,
   "metadata": {},
   "outputs": [],
   "source": [
    "#train_model(fc_model, train_loader, 50)"
   ]
  },
  {
   "cell_type": "code",
   "execution_count": 4,
   "metadata": {},
   "outputs": [],
   "source": [
    "#test_model(fc_model, test_loader)"
   ]
  },
  {
   "cell_type": "code",
   "execution_count": 5,
   "metadata": {},
   "outputs": [],
   "source": [
    "cnn_model = CNNet()"
   ]
  },
  {
   "cell_type": "code",
   "execution_count": 12,
   "metadata": {},
   "outputs": [
    {
     "name": "stdout",
     "output_type": "stream",
     "text": [
      "started training ...\n",
      "the loss after processing this epoch is:  5.84065397203085\n",
      "the loss after processing this epoch is:  4.426759159454377\n",
      "the loss after processing this epoch is:  3.5456509258783626\n",
      "the loss after processing this epoch is:  4.57703857229717\n",
      "the loss after processing this epoch is:  3.479973972804146\n",
      "the loss after processing this epoch is:  3.570981882232445\n",
      "the loss after processing this epoch is:  4.585479528381256\n",
      "the loss after processing this epoch is:  2.2690713454339857\n",
      "the loss after processing this epoch is:  1.7007256336123646\n",
      "the loss after processing this epoch is:  3.4683276191290133\n",
      "the loss after processing this epoch is:  5.211578118725811\n",
      "the loss after processing this epoch is:  2.9810517142004755\n",
      "the loss after processing this epoch is:  2.4586462911020135\n",
      "the loss after processing this epoch is:  2.3606222271271236\n",
      "the loss after processing this epoch is:  2.1869242882695445\n",
      "the loss after processing this epoch is:  3.657070157922135\n",
      "the loss after processing this epoch is:  2.475308234389871\n",
      "the loss after processing this epoch is:  2.142129156157921\n",
      "the loss after processing this epoch is:  2.3105893029870685\n",
      "the loss after processing this epoch is:  2.377918234584172\n",
      "Training completed.\n",
      "=*==*==*==*==*==*==*==*==*==*==*==*==*==*==*==*==*==*==*==*=\n"
     ]
    },
    {
     "data": {
      "text/plain": [
       "(CNNet(\n",
       "   (conv_1): Conv2d(1, 16, kernel_size=(3, 3), stride=(1, 1))\n",
       "   (conv_2): Conv2d(16, 8, kernel_size=(2, 2), stride=(1, 1))\n",
       "   (conv_3): Conv2d(8, 8, kernel_size=(3, 3), stride=(1, 1))\n",
       "   (fc_1): Linear(in_features=968, out_features=50, bias=True)\n",
       "   (fc_2): Linear(in_features=50, out_features=5, bias=True)\n",
       "   (pool): MaxPool2d(kernel_size=2, stride=2, padding=0, dilation=1, ceil_mode=False)\n",
       " ),\n",
       " [5.84065397203085,\n",
       "  4.426759159454377,\n",
       "  3.5456509258783626,\n",
       "  4.57703857229717,\n",
       "  3.479973972804146,\n",
       "  3.570981882232445,\n",
       "  4.585479528381256,\n",
       "  2.2690713454339857,\n",
       "  1.7007256336123646,\n",
       "  3.4683276191290133,\n",
       "  5.211578118725811,\n",
       "  2.9810517142004755,\n",
       "  2.4586462911020135,\n",
       "  2.3606222271271236,\n",
       "  2.1869242882695445,\n",
       "  3.657070157922135,\n",
       "  2.475308234389871,\n",
       "  2.142129156157921,\n",
       "  2.3105893029870685,\n",
       "  2.377918234584172])"
      ]
     },
     "execution_count": 12,
     "metadata": {},
     "output_type": "execute_result"
    }
   ],
   "source": [
    "train_model(cnn_model, train_loader, 20)"
   ]
  },
  {
   "cell_type": "code",
   "execution_count": 13,
   "metadata": {},
   "outputs": [],
   "source": [
    "torch.save(cnn_model, \"trained_models/trained_cnn\")"
   ]
  },
  {
   "cell_type": "code",
   "execution_count": 14,
   "metadata": {},
   "outputs": [
    {
     "name": "stdout",
     "output_type": "stream",
     "text": [
      "The classifier accuracy is:  89.64285714285715\n"
     ]
    },
    {
     "data": {
      "text/plain": [
       "0.8964285714285715"
      ]
     },
     "execution_count": 14,
     "metadata": {},
     "output_type": "execute_result"
    }
   ],
   "source": [
    "test_model(cnn_model, test_loader)"
   ]
  },
  {
   "cell_type": "code",
   "execution_count": null,
   "metadata": {},
   "outputs": [],
   "source": []
  }
 ],
 "metadata": {
  "kernelspec": {
   "display_name": "Python 3",
   "language": "python",
   "name": "python3"
  },
  "language_info": {
   "codemirror_mode": {
    "name": "ipython",
    "version": 3
   },
   "file_extension": ".py",
   "mimetype": "text/x-python",
   "name": "python",
   "nbconvert_exporter": "python",
   "pygments_lexer": "ipython3",
   "version": "3.7.3"
  }
 },
 "nbformat": 4,
 "nbformat_minor": 2
}
