{
 "cells": [
  {
   "cell_type": "code",
   "execution_count": 47,
   "metadata": {},
   "outputs": [],
   "source": [
    "from data_processor import train_loader, test_loader, unlabeled_loader\n",
    "from models import CNNet, train_model, test_model"
   ]
  },
  {
   "cell_type": "code",
   "execution_count": 2,
   "metadata": {},
   "outputs": [
    {
     "name": "stderr",
     "output_type": "stream",
     "text": [
      "/home/khalifa/.local/lib/python3.7/site-packages/torch/serialization.py:593: SourceChangeWarning: source code of class 'models.CNNet' has changed. you can retrieve the original source code by accessing the object's source attribute or set `torch.nn.Module.dump_patches = True` and use the patch tool to revert the changes.\n",
      "  warnings.warn(msg, SourceChangeWarning)\n"
     ]
    }
   ],
   "source": [
    "model = CNNet()\n",
    "model = torch.load('trained_models/trained_cnn')"
   ]
  },
  {
   "cell_type": "code",
   "execution_count": 3,
   "metadata": {},
   "outputs": [
    {
     "name": "stdout",
     "output_type": "stream",
     "text": [
      "The classifier accuracy is:  89.07142857142857\n"
     ]
    },
    {
     "data": {
      "text/plain": [
       "0.8907142857142857"
      ]
     },
     "execution_count": 3,
     "metadata": {},
     "output_type": "execute_result"
    }
   ],
   "source": [
    "test_model(model, test_loader)"
   ]
  },
  {
   "cell_type": "code",
   "execution_count": 42,
   "metadata": {},
   "outputs": [],
   "source": [
    "unlabled_loader = []\n",
    "for images, _ in unlabeled_loader:\n",
    "    psuedo_labels = model(images).argmax(1)  \n",
    "    unlabled_loader.append((images, psuedo_labels))"
   ]
  },
  {
   "cell_type": "code",
   "execution_count": 44,
   "metadata": {},
   "outputs": [
    {
     "name": "stdout",
     "output_type": "stream",
     "text": [
      "started training ...\n",
      "the loss after processing this epoch is:  23.1320313885808\n",
      "the loss after processing this epoch is:  20.450179658830166\n",
      "the loss after processing this epoch is:  18.980544794350863\n",
      "the loss after processing this epoch is:  18.85314955562353\n",
      "the loss after processing this epoch is:  18.894948314875364\n",
      "the loss after processing this epoch is:  17.65672880783677\n",
      "the loss after processing this epoch is:  16.733657809905708\n",
      "the loss after processing this epoch is:  16.70543389581144\n",
      "the loss after processing this epoch is:  17.66093867830932\n",
      "the loss after processing this epoch is:  17.401054196059704\n",
      "Training completed.\n",
      "=*==*==*==*==*==*==*==*==*==*==*==*==*==*==*==*==*==*==*==*=\n"
     ]
    }
   ],
   "source": [
    "trained_model, loss_trace = train_model(model, unlabled_loader, cnn= True)"
   ]
  },
  {
   "cell_type": "code",
   "execution_count": 48,
   "metadata": {},
   "outputs": [
    {
     "name": "stdout",
     "output_type": "stream",
     "text": [
      "The classifier accuracy is:  88.78571428571429\n"
     ]
    },
    {
     "data": {
      "text/plain": [
       "0.8878571428571429"
      ]
     },
     "execution_count": 48,
     "metadata": {},
     "output_type": "execute_result"
    }
   ],
   "source": [
    "test_model(trained_model, test_loader)"
   ]
  }
 ],
 "metadata": {
  "kernelspec": {
   "display_name": "Python 3",
   "language": "python",
   "name": "python3"
  },
  "language_info": {
   "codemirror_mode": {
    "name": "ipython",
    "version": 3
   },
   "file_extension": ".py",
   "mimetype": "text/x-python",
   "name": "python",
   "nbconvert_exporter": "python",
   "pygments_lexer": "ipython3",
   "version": "3.7.3"
  }
 },
 "nbformat": 4,
 "nbformat_minor": 2
}
