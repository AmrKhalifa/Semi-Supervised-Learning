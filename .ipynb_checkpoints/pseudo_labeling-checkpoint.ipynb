{
 "cells": [
  {
   "cell_type": "code",
   "execution_count": 65,
   "metadata": {},
   "outputs": [],
   "source": [
    "from data_processor import train_loader, test_loader, unlabeled_loader\n",
    "from models import CNNet, train_model, test_model"
   ]
  },
  {
   "cell_type": "code",
   "execution_count": 56,
   "metadata": {},
   "outputs": [
    {
     "name": "stderr",
     "output_type": "stream",
     "text": [
      "/home/khalifa/.local/lib/python3.7/site-packages/torch/serialization.py:593: SourceChangeWarning: source code of class 'models.CNNet' has changed. you can retrieve the original source code by accessing the object's source attribute or set `torch.nn.Module.dump_patches = True` and use the patch tool to revert the changes.\n",
      "  warnings.warn(msg, SourceChangeWarning)\n"
     ]
    }
   ],
   "source": [
    "model = CNNet()\n",
    "model = torch.load('trained_models/trained_cnn')"
   ]
  },
  {
   "cell_type": "code",
   "execution_count": 57,
   "metadata": {},
   "outputs": [
    {
     "name": "stdout",
     "output_type": "stream",
     "text": [
      "The classifier accuracy is:  89.35714285714286\n"
     ]
    },
    {
     "data": {
      "text/plain": [
       "0.8935714285714286"
      ]
     },
     "execution_count": 57,
     "metadata": {},
     "output_type": "execute_result"
    }
   ],
   "source": [
    "test_model(model, test_loader)"
   ]
  },
  {
   "cell_type": "code",
   "execution_count": 58,
   "metadata": {},
   "outputs": [],
   "source": [
    "unlabled_loader = []\n",
    "for images, _ in unlabeled_loader:\n",
    "    psuedo_labels = model(images).argmax(1)  \n",
    "    unlabled_loader.append((images, psuedo_labels))"
   ]
  },
  {
   "cell_type": "code",
   "execution_count": 68,
   "metadata": {},
   "outputs": [
    {
     "name": "stdout",
     "output_type": "stream",
     "text": [
      "started training ...\n",
      "the loss after processing this epoch is:  3.162533241183608\n",
      "the loss after processing this epoch is:  2.582796969561741\n",
      "the loss after processing this epoch is:  4.592027806517763\n",
      "the loss after processing this epoch is:  3.3128935706304343\n",
      "the loss after processing this epoch is:  2.664650533151846\n",
      "the loss after processing this epoch is:  1.7211837322176486\n",
      "the loss after processing this epoch is:  1.4411374411354512\n",
      "the loss after processing this epoch is:  2.005165222740356\n",
      "the loss after processing this epoch is:  2.116376933791315\n",
      "the loss after processing this epoch is:  3.391379157589194\n",
      "the loss after processing this epoch is:  1.3339819615561317\n",
      "the loss after processing this epoch is:  0.6605903048905022\n",
      "the loss after processing this epoch is:  0.9260651846974852\n",
      "the loss after processing this epoch is:  2.083339521571091\n",
      "the loss after processing this epoch is:  0.8250511389272486\n",
      "the loss after processing this epoch is:  1.5382456161761686\n",
      "the loss after processing this epoch is:  2.6938040157009056\n",
      "the loss after processing this epoch is:  3.15452954928249\n",
      "the loss after processing this epoch is:  2.644141339039111\n",
      "the loss after processing this epoch is:  1.7590804650561438\n",
      "Training completed.\n",
      "=*==*==*==*==*==*==*==*==*==*==*==*==*==*==*==*==*==*==*==*=\n",
      "started training ...\n",
      "the loss after processing this epoch is:  43.93354084715247\n",
      "the loss after processing this epoch is:  26.476544119417667\n",
      "the loss after processing this epoch is:  23.029543589800596\n",
      "the loss after processing this epoch is:  21.648142974823713\n",
      "the loss after processing this epoch is:  22.13439379259944\n",
      "the loss after processing this epoch is:  20.959318105131388\n",
      "the loss after processing this epoch is:  19.533144544810057\n",
      "the loss after processing this epoch is:  18.570066682994366\n",
      "the loss after processing this epoch is:  18.369559148326516\n",
      "the loss after processing this epoch is:  19.253968870267272\n",
      "the loss after processing this epoch is:  18.39519303292036\n",
      "the loss after processing this epoch is:  19.19462469778955\n",
      "the loss after processing this epoch is:  19.35701950918883\n",
      "the loss after processing this epoch is:  17.527791095897555\n",
      "the loss after processing this epoch is:  16.145596843212843\n",
      "the loss after processing this epoch is:  18.089923734776676\n",
      "the loss after processing this epoch is:  15.9443071577698\n",
      "the loss after processing this epoch is:  15.753805309534073\n",
      "the loss after processing this epoch is:  16.8036505933851\n",
      "the loss after processing this epoch is:  16.980114845559\n",
      "Training completed.\n",
      "=*==*==*==*==*==*==*==*==*==*==*==*==*==*==*==*==*==*==*==*=\n"
     ]
    }
   ],
   "source": [
    "trained_model, loss_trace = train_model(model, train_loader, epochs = 20)\n",
    "\n",
    "trained_model, loss_trace = train_model(trained_model, unlabled_loader, epochs= 20)"
   ]
  },
  {
   "cell_type": "code",
   "execution_count": 69,
   "metadata": {},
   "outputs": [
    {
     "name": "stdout",
     "output_type": "stream",
     "text": [
      "The classifier accuracy is:  89.35714285714286\n"
     ]
    },
    {
     "data": {
      "text/plain": [
       "0.8935714285714286"
      ]
     },
     "execution_count": 69,
     "metadata": {},
     "output_type": "execute_result"
    }
   ],
   "source": [
    "test_model(trained_model, test_loader)"
   ]
  },
  {
   "cell_type": "code",
   "execution_count": null,
   "metadata": {},
   "outputs": [],
   "source": []
  }
 ],
 "metadata": {
  "kernelspec": {
   "display_name": "Python 3",
   "language": "python",
   "name": "python3"
  },
  "language_info": {
   "codemirror_mode": {
    "name": "ipython",
    "version": 3
   },
   "file_extension": ".py",
   "mimetype": "text/x-python",
   "name": "python",
   "nbconvert_exporter": "python",
   "pygments_lexer": "ipython3",
   "version": "3.7.3"
  }
 },
 "nbformat": 4,
 "nbformat_minor": 2
}
