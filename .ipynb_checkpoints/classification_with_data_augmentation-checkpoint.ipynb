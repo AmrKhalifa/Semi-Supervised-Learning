{
 "cells": [
  {
   "cell_type": "code",
   "execution_count": 9,
   "metadata": {},
   "outputs": [],
   "source": [
    "from data_processor import train_loader, test_loader, unlabeled_loader\n",
    "import torch\n",
    "import torch.nn as nn\n",
    "from torchvision import models, datasets\n",
    "import matplotlib.pyplot as plt\n",
    "import numpy as np\n",
    "from sklearn.semi_supervised import LabelSpreading\n",
    "from models import CNNet, train_model, test_model\n",
    "import torchvision.transforms as transforms\n",
    "import glob\n",
    "import matplotlib.pyplot as plt\n",
    "import time\n",
    "import albumentations as A\n",
    "from torch.utils.data import DataLoader, Dataset\n",
    "from PIL import Image\n",
    "from utils import show_batch"
   ]
  },
  {
   "cell_type": "code",
   "execution_count": 10,
   "metadata": {},
   "outputs": [],
   "source": [
    "train_path = 'semi_supervised_data/train_data' "
   ]
  },
  {
   "cell_type": "code",
   "execution_count": 20,
   "metadata": {},
   "outputs": [],
   "source": [
    "transformation = transforms.Compose([\n",
    "    \n",
    "     transforms.Resize((100, 100)),\n",
    "     transforms.RandomHorizontalFlip(p=0.1),\n",
    "     transforms.RandomRotation(degrees=(-90, 90)),\n",
    "     transforms.RandomVerticalFlip(p=0.1),\n",
    "     transforms.Grayscale(),\n",
    "     transforms.ToTensor(),\n",
    "     ])"
   ]
  },
  {
   "cell_type": "code",
   "execution_count": 21,
   "metadata": {},
   "outputs": [],
   "source": [
    "\timset = datasets.ImageFolder(\n",
    "\t    root=train_path,\n",
    "\t    transform = transformation)\n",
    "    \n",
    "train_loader = DataLoader(dataset=imset, batch_size=512, shuffle=True)"
   ]
  },
  {
   "cell_type": "code",
   "execution_count": 24,
   "metadata": {},
   "outputs": [],
   "source": [
    "model = CNNet()"
   ]
  },
  {
   "cell_type": "code",
   "execution_count": 25,
   "metadata": {},
   "outputs": [
    {
     "name": "stdout",
     "output_type": "stream",
     "text": [
      "started training ...\n",
      "the loss after processing this epoch is:  11.944298386573792\n",
      "the loss after processing this epoch is:  4.8001188933849335\n",
      "the loss after processing this epoch is:  3.7613167464733124\n",
      "the loss after processing this epoch is:  3.3327523320913315\n",
      "the loss after processing this epoch is:  3.1045117378234863\n",
      "the loss after processing this epoch is:  2.9383101239800453\n",
      "the loss after processing this epoch is:  2.974095717072487\n",
      "the loss after processing this epoch is:  2.5521168187260628\n",
      "the loss after processing this epoch is:  2.2628148198127747\n",
      "the loss after processing this epoch is:  2.206119105219841\n",
      "the loss after processing this epoch is:  2.151803180575371\n",
      "the loss after processing this epoch is:  2.0908749997615814\n",
      "the loss after processing this epoch is:  2.1370521560311317\n",
      "the loss after processing this epoch is:  2.0183936581015587\n",
      "the loss after processing this epoch is:  2.0786867663264275\n",
      "the loss after processing this epoch is:  1.8936044797301292\n",
      "the loss after processing this epoch is:  1.9049228876829147\n",
      "the loss after processing this epoch is:  1.8474069610238075\n",
      "the loss after processing this epoch is:  1.6715899780392647\n",
      "the loss after processing this epoch is:  1.6980709433555603\n",
      "the loss after processing this epoch is:  1.7853650078177452\n",
      "the loss after processing this epoch is:  1.6639074385166168\n",
      "the loss after processing this epoch is:  1.5756034404039383\n",
      "the loss after processing this epoch is:  1.4621322080492973\n",
      "the loss after processing this epoch is:  1.3637989461421967\n",
      "the loss after processing this epoch is:  1.6735749691724777\n",
      "the loss after processing this epoch is:  1.8007429838180542\n",
      "the loss after processing this epoch is:  1.7529840096831322\n",
      "the loss after processing this epoch is:  1.54738287627697\n",
      "the loss after processing this epoch is:  1.3773205177858472\n",
      "the loss after processing this epoch is:  1.345516100525856\n",
      "the loss after processing this epoch is:  1.5323371663689613\n",
      "the loss after processing this epoch is:  1.4269555807113647\n",
      "the loss after processing this epoch is:  1.7640978768467903\n",
      "the loss after processing this epoch is:  1.3016852661967278\n",
      "the loss after processing this epoch is:  1.258985161781311\n",
      "the loss after processing this epoch is:  1.196659404784441\n",
      "the loss after processing this epoch is:  1.3545905724167824\n",
      "the loss after processing this epoch is:  1.1111728809773922\n",
      "the loss after processing this epoch is:  1.1878212429583073\n",
      "the loss after processing this epoch is:  1.1397800259292126\n",
      "the loss after processing this epoch is:  1.0562136434018612\n",
      "the loss after processing this epoch is:  1.2765313237905502\n",
      "the loss after processing this epoch is:  1.2744862139225006\n",
      "the loss after processing this epoch is:  1.1747068762779236\n",
      "the loss after processing this epoch is:  1.1704953983426094\n",
      "the loss after processing this epoch is:  1.14957270398736\n",
      "the loss after processing this epoch is:  1.1700332202017307\n",
      "the loss after processing this epoch is:  1.315455760806799\n",
      "the loss after processing this epoch is:  1.1770395897328854\n",
      "Training completed.\n",
      "=*==*==*==*==*==*==*==*==*==*==*==*==*==*==*==*==*==*==*==*=\n"
     ]
    }
   ],
   "source": [
    "trained_model, loss = train_model(model, train_loader, 50)"
   ]
  },
  {
   "cell_type": "code",
   "execution_count": 26,
   "metadata": {},
   "outputs": [],
   "source": [
    "torch.save(trained_model, \"trained_models/trainedCNN_augm\")"
   ]
  },
  {
   "cell_type": "code",
   "execution_count": 27,
   "metadata": {},
   "outputs": [
    {
     "name": "stdout",
     "output_type": "stream",
     "text": [
      "The classifier accuracy is:  73.85714285714286\n"
     ]
    },
    {
     "data": {
      "text/plain": [
       "0.7385714285714285"
      ]
     },
     "execution_count": 27,
     "metadata": {},
     "output_type": "execute_result"
    }
   ],
   "source": [
    "test_model(trained_model, test_loader)"
   ]
  },
  {
   "cell_type": "code",
   "execution_count": null,
   "metadata": {},
   "outputs": [],
   "source": []
  }
 ],
 "metadata": {
  "kernelspec": {
   "display_name": "Python 3",
   "language": "python",
   "name": "python3"
  },
  "language_info": {
   "codemirror_mode": {
    "name": "ipython",
    "version": 3
   },
   "file_extension": ".py",
   "mimetype": "text/x-python",
   "name": "python",
   "nbconvert_exporter": "python",
   "pygments_lexer": "ipython3",
   "version": "3.7.3"
  }
 },
 "nbformat": 4,
 "nbformat_minor": 2
}
