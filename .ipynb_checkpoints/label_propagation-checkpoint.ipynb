{
 "cells": [
  {
   "cell_type": "markdown",
   "metadata": {},
   "source": [
    "### Label propagation using CNN feature extraction "
   ]
  },
  {
   "cell_type": "code",
   "execution_count": 21,
   "metadata": {},
   "outputs": [],
   "source": [
    "from data_processor import train_loader, test_loader, unlabeled_loader\n",
    "import torch\n",
    "import torch.nn as nn\n",
    "from torchvision import models\n",
    "import matplotlib.pyplot as plt\n",
    "import numpy as np\n",
    "from sklearn import datasets\n",
    "from sklearn.semi_supervised import LabelSpreading\n",
    "from sklearn.semi_supervised import LabelPropagation\n",
    "from models import CNNet"
   ]
  },
  {
   "cell_type": "code",
   "execution_count": 2,
   "metadata": {},
   "outputs": [
    {
     "name": "stderr",
     "output_type": "stream",
     "text": [
      "/home/khalifa/.local/lib/python3.7/site-packages/torch/serialization.py:593: SourceChangeWarning: source code of class 'models.CNNet' has changed. you can retrieve the original source code by accessing the object's source attribute or set `torch.nn.Module.dump_patches = True` and use the patch tool to revert the changes.\n",
      "  warnings.warn(msg, SourceChangeWarning)\n"
     ]
    }
   ],
   "source": [
    "model = CNNet()\n",
    "model = torch.load('trained_models/trained_cnn')"
   ]
  },
  {
   "cell_type": "code",
   "execution_count": 15,
   "metadata": {},
   "outputs": [],
   "source": [
    "with torch.no_grad(): \n",
    "    batch = next(iter(train_loader))\n",
    "    images, labels = batch\n",
    "    all_out = model.get_features(images)\n",
    "    all_labels = labels \n",
    "    \n",
    "    first_batch = len(images)\n",
    "    \n",
    "    for batch in train_loader:\n",
    "        images, labels = batch \n",
    "        all_out = torch.cat((all_out, model.get_features(images)), 0)\n",
    "        all_labels = torch.cat((all_labels, labels), 0)\n",
    "\n",
    "    for batch in unlabeled_loader:\n",
    "        images, labels = batch\n",
    "        all_out = torch.cat((all_out, model.get_features(images)), 0)\n",
    "        unlabel = torch.tensor([-1]*len(labels))\n",
    "        all_labels = torch.cat((all_labels, unlabel), 0)\n",
    "\n",
    "all_out = all_out[first_batch:]\n",
    "all_labels = all_labels[first_batch:]"
   ]
  },
  {
   "cell_type": "code",
   "execution_count": 16,
   "metadata": {},
   "outputs": [
    {
     "name": "stdout",
     "output_type": "stream",
     "text": [
      "torch.Size([14809, 50])\n",
      "torch.Size([14809])\n"
     ]
    }
   ],
   "source": [
    "print(all_out.shape)\n",
    "print(all_labels.shape)"
   ]
  },
  {
   "cell_type": "code",
   "execution_count": 17,
   "metadata": {},
   "outputs": [],
   "source": [
    "test_images, test_labels = next(iter(test_loader))\n",
    "test_features = model.get_features(test_images)\n",
    "\n",
    "with torch.no_grad(): \n",
    "    for images, labels in test_loader:\n",
    "        test_features = torch.cat((test_features, model.get_features(images)), 0)\n",
    "        test_labels = torch.cat((test_labels, labels), 0)\n",
    "\n",
    "test_features = test_features[first_batch:]\n",
    "test_labels = test_labels[first_batch:]"
   ]
  },
  {
   "cell_type": "code",
   "execution_count": 18,
   "metadata": {},
   "outputs": [
    {
     "name": "stdout",
     "output_type": "stream",
     "text": [
      "torch.Size([1400, 50])\n",
      "torch.Size([1400])\n"
     ]
    }
   ],
   "source": [
    "print(test_features.shape)\n",
    "print(test_labels.shape)"
   ]
  },
  {
   "cell_type": "code",
   "execution_count": 22,
   "metadata": {},
   "outputs": [
    {
     "data": {
      "text/plain": [
       "0.9035714285714286"
      ]
     },
     "execution_count": 22,
     "metadata": {},
     "output_type": "execute_result"
    }
   ],
   "source": [
    "label_spr_model = LabelSpreading(max_iter = 50, kernel = 'knn', alpha = 0.01, n_neighbors = 100, tol = .001)\n",
    "\n",
    "label_spr_model.fit(all_out.numpy(), all_labels.numpy())\n",
    "\n",
    "label_spr_model.score(test_features.numpy(), test_labels.numpy())"
   ]
  },
  {
   "cell_type": "code",
   "execution_count": null,
   "metadata": {},
   "outputs": [],
   "source": []
  }
 ],
 "metadata": {
  "kernelspec": {
   "display_name": "Python 3",
   "language": "python",
   "name": "python3"
  },
  "language_info": {
   "codemirror_mode": {
    "name": "ipython",
    "version": 3
   },
   "file_extension": ".py",
   "mimetype": "text/x-python",
   "name": "python",
   "nbconvert_exporter": "python",
   "pygments_lexer": "ipython3",
   "version": "3.7.3"
  }
 },
 "nbformat": 4,
 "nbformat_minor": 2
}
