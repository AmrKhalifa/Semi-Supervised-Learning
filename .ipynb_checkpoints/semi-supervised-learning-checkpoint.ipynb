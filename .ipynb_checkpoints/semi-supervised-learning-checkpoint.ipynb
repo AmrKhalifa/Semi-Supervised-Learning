{
 "cells": [
  {
   "cell_type": "code",
   "execution_count": 1,
   "metadata": {},
   "outputs": [],
   "source": [
    "from data_processor import train_loader, test_loader\n",
    "from models import FCNet, train_model, test_model"
   ]
  },
  {
   "cell_type": "code",
   "execution_count": 2,
   "metadata": {},
   "outputs": [],
   "source": [
    "# selecting fully connected model\n",
    "fc_model = FCNet()"
   ]
  },
  {
   "cell_type": "code",
   "execution_count": 3,
   "metadata": {},
   "outputs": [
    {
     "name": "stdout",
     "output_type": "stream",
     "text": [
      "started training ...\n",
      "the loss after processing this epoch is:  48.77395647019148\n",
      "the loss after processing this epoch is:  25.252721145749092\n",
      "the loss after processing this epoch is:  17.425263445824385\n",
      "the loss after processing this epoch is:  15.347321920096874\n",
      "the loss after processing this epoch is:  14.429379656910896\n",
      "the loss after processing this epoch is:  12.441760970279574\n",
      "the loss after processing this epoch is:  12.239141713827848\n",
      "the loss after processing this epoch is:  10.382651687599719\n",
      "the loss after processing this epoch is:  10.541738925501704\n",
      "the loss after processing this epoch is:  10.542048780247569\n",
      "the loss after processing this epoch is:  9.3827301915735\n",
      "the loss after processing this epoch is:  9.609856504015625\n",
      "the loss after processing this epoch is:  9.51931156264618\n",
      "the loss after processing this epoch is:  6.977822228800505\n",
      "the loss after processing this epoch is:  6.747865718323737\n",
      "the loss after processing this epoch is:  5.591654140269384\n",
      "the loss after processing this epoch is:  6.95278001204133\n",
      "the loss after processing this epoch is:  4.778729532146826\n",
      "the loss after processing this epoch is:  5.051552333170548\n",
      "the loss after processing this epoch is:  5.602343153208494\n",
      "the loss after processing this epoch is:  7.005747894290835\n",
      "the loss after processing this epoch is:  4.314085757825524\n",
      "the loss after processing this epoch is:  6.432753560657147\n",
      "the loss after processing this epoch is:  5.397595795453526\n",
      "the loss after processing this epoch is:  4.034940406214446\n",
      "the loss after processing this epoch is:  4.802451608236879\n",
      "the loss after processing this epoch is:  5.355978476814926\n",
      "the loss after processing this epoch is:  5.999169153510593\n",
      "the loss after processing this epoch is:  4.522263360675424\n",
      "the loss after processing this epoch is:  3.9226037417538464\n",
      "the loss after processing this epoch is:  3.846087677171454\n",
      "the loss after processing this epoch is:  3.3858834136044607\n",
      "the loss after processing this epoch is:  3.3406886680750176\n",
      "the loss after processing this epoch is:  4.272902278287802\n",
      "the loss after processing this epoch is:  3.2939092380693182\n",
      "the loss after processing this epoch is:  4.145805155319977\n",
      "the loss after processing this epoch is:  3.3868905119306874\n",
      "the loss after processing this epoch is:  6.172389606479555\n",
      "the loss after processing this epoch is:  2.8324028533534147\n",
      "the loss after processing this epoch is:  2.8264248163904995\n",
      "the loss after processing this epoch is:  3.364281903835945\n",
      "the loss after processing this epoch is:  4.270135307568125\n",
      "the loss after processing this epoch is:  3.028350207430776\n",
      "the loss after processing this epoch is:  3.047389657003805\n",
      "the loss after processing this epoch is:  2.949169976694975\n",
      "the loss after processing this epoch is:  2.916406605800148\n",
      "the loss after processing this epoch is:  2.5155208003125153\n",
      "the loss after processing this epoch is:  2.0835740626207553\n",
      "the loss after processing this epoch is:  3.2636132382031064\n",
      "the loss after processing this epoch is:  2.148803976480849\n",
      "Training completed.\n",
      "=*==*==*==*==*==*==*==*==*==*==*==*==*==*==*==*==*==*==*==*=\n"
     ]
    },
    {
     "data": {
      "text/plain": [
       "(FCNet(\n",
       "   (feedforward): Sequential(\n",
       "     (0): Linear(in_features=10000, out_features=500, bias=True)\n",
       "     (1): BatchNorm1d(500, eps=1e-05, momentum=0.1, affine=True, track_running_stats=True)\n",
       "     (2): ReLU()\n",
       "     (3): Dropout(p=0.2, inplace=False)\n",
       "     (4): Linear(in_features=500, out_features=100, bias=True)\n",
       "     (5): BatchNorm1d(100, eps=1e-05, momentum=0.1, affine=True, track_running_stats=True)\n",
       "     (6): ReLU()\n",
       "     (7): Dropout(p=0.2, inplace=False)\n",
       "     (8): Linear(in_features=100, out_features=25, bias=True)\n",
       "     (9): BatchNorm1d(25, eps=1e-05, momentum=0.1, affine=True, track_running_stats=True)\n",
       "     (10): ReLU()\n",
       "     (11): Dropout(p=0.2, inplace=False)\n",
       "     (12): Linear(in_features=25, out_features=5, bias=True)\n",
       "   )\n",
       " ),\n",
       " [48.77395647019148,\n",
       "  25.252721145749092,\n",
       "  17.425263445824385,\n",
       "  15.347321920096874,\n",
       "  14.429379656910896,\n",
       "  12.441760970279574,\n",
       "  12.239141713827848,\n",
       "  10.382651687599719,\n",
       "  10.541738925501704,\n",
       "  10.542048780247569,\n",
       "  9.3827301915735,\n",
       "  9.609856504015625,\n",
       "  9.51931156264618,\n",
       "  6.977822228800505,\n",
       "  6.747865718323737,\n",
       "  5.591654140269384,\n",
       "  6.95278001204133,\n",
       "  4.778729532146826,\n",
       "  5.051552333170548,\n",
       "  5.602343153208494,\n",
       "  7.005747894290835,\n",
       "  4.314085757825524,\n",
       "  6.432753560657147,\n",
       "  5.397595795453526,\n",
       "  4.034940406214446,\n",
       "  4.802451608236879,\n",
       "  5.355978476814926,\n",
       "  5.999169153510593,\n",
       "  4.522263360675424,\n",
       "  3.9226037417538464,\n",
       "  3.846087677171454,\n",
       "  3.3858834136044607,\n",
       "  3.3406886680750176,\n",
       "  4.272902278287802,\n",
       "  3.2939092380693182,\n",
       "  4.145805155319977,\n",
       "  3.3868905119306874,\n",
       "  6.172389606479555,\n",
       "  2.8324028533534147,\n",
       "  2.8264248163904995,\n",
       "  3.364281903835945,\n",
       "  4.270135307568125,\n",
       "  3.028350207430776,\n",
       "  3.047389657003805,\n",
       "  2.949169976694975,\n",
       "  2.916406605800148,\n",
       "  2.5155208003125153,\n",
       "  2.0835740626207553,\n",
       "  3.2636132382031064,\n",
       "  2.148803976480849])"
      ]
     },
     "execution_count": 3,
     "metadata": {},
     "output_type": "execute_result"
    }
   ],
   "source": [
    "train_model(fc_model, train_loader, 50)"
   ]
  },
  {
   "cell_type": "code",
   "execution_count": 4,
   "metadata": {},
   "outputs": [
    {
     "name": "stdout",
     "output_type": "stream",
     "text": [
      "The classifier accuracy is:  72.78571428571429\n"
     ]
    },
    {
     "data": {
      "text/plain": [
       "0.7278571428571429"
      ]
     },
     "execution_count": 4,
     "metadata": {},
     "output_type": "execute_result"
    }
   ],
   "source": [
    "test_model(fc_model, test_loader)"
   ]
  }
 ],
 "metadata": {
  "kernelspec": {
   "display_name": "Python 3",
   "language": "python",
   "name": "python3"
  },
  "language_info": {
   "codemirror_mode": {
    "name": "ipython",
    "version": 3
   },
   "file_extension": ".py",
   "mimetype": "text/x-python",
   "name": "python",
   "nbconvert_exporter": "python",
   "pygments_lexer": "ipython3",
   "version": "3.7.3"
  }
 },
 "nbformat": 4,
 "nbformat_minor": 2
}
