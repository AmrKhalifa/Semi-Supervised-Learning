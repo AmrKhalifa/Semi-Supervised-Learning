{
 "cells": [
  {
   "cell_type": "code",
   "execution_count": 1,
   "metadata": {},
   "outputs": [],
   "source": [
    "from data_processor import train_loader, test_loader\n",
    "from models import FCNet, train_model, test_model"
   ]
  },
  {
   "cell_type": "code",
   "execution_count": 2,
   "metadata": {},
   "outputs": [],
   "source": [
    "fc_model = FCNet()"
   ]
  },
  {
   "cell_type": "code",
   "execution_count": 4,
   "metadata": {},
   "outputs": [
    {
     "name": "stdout",
     "output_type": "stream",
     "text": [
      "started training ...\n",
      "the loss after processing this epoch is:  102.44340233504772\n",
      "the loss after processing this epoch is:  60.36401207745075\n",
      "the loss after processing this epoch is:  49.95164620876312\n",
      "the loss after processing this epoch is:  44.41898483783007\n",
      "the loss after processing this epoch is:  40.57912228256464\n",
      "the loss after processing this epoch is:  32.43967946060002\n",
      "the loss after processing this epoch is:  32.54053814895451\n",
      "the loss after processing this epoch is:  27.733343051746488\n",
      "the loss after processing this epoch is:  27.265528650954366\n",
      "the loss after processing this epoch is:  24.37714168149978\n",
      "the loss after processing this epoch is:  22.873962433077395\n",
      "the loss after processing this epoch is:  22.23516653571278\n",
      "the loss after processing this epoch is:  19.56723676994443\n",
      "the loss after processing this epoch is:  18.291220301762223\n",
      "the loss after processing this epoch is:  19.25081232469529\n",
      "the loss after processing this epoch is:  16.833928701467812\n",
      "the loss after processing this epoch is:  17.040104924235493\n",
      "the loss after processing this epoch is:  14.875592830125242\n",
      "the loss after processing this epoch is:  16.920299199875444\n",
      "the loss after processing this epoch is:  13.08588885422796\n",
      "the loss after processing this epoch is:  13.96103353984654\n",
      "the loss after processing this epoch is:  12.91927794041112\n",
      "the loss after processing this epoch is:  12.588151231175289\n",
      "the loss after processing this epoch is:  11.939758970402181\n",
      "the loss after processing this epoch is:  12.657698976574466\n",
      "the loss after processing this epoch is:  10.404678504681215\n",
      "the loss after processing this epoch is:  12.01931608770974\n",
      "the loss after processing this epoch is:  10.749737397301942\n",
      "the loss after processing this epoch is:  9.961096756509505\n",
      "the loss after processing this epoch is:  10.3203135561198\n",
      "the loss after processing this epoch is:  8.584743037470616\n",
      "the loss after processing this epoch is:  10.237715437193401\n",
      "the loss after processing this epoch is:  9.054775692755356\n",
      "the loss after processing this epoch is:  10.411871068587061\n",
      "the loss after processing this epoch is:  8.889119846513495\n",
      "the loss after processing this epoch is:  8.803446650970727\n",
      "the loss after processing this epoch is:  8.812725191703066\n",
      "the loss after processing this epoch is:  7.762589601916261\n",
      "the loss after processing this epoch is:  8.07789410080295\n",
      "the loss after processing this epoch is:  7.074081531842239\n",
      "the loss after processing this epoch is:  7.921981134888483\n",
      "the loss after processing this epoch is:  6.686205542529933\n",
      "the loss after processing this epoch is:  8.013209158438258\n",
      "the loss after processing this epoch is:  7.5369612503563985\n",
      "the loss after processing this epoch is:  7.216957926400937\n",
      "the loss after processing this epoch is:  6.658684168534819\n",
      "the loss after processing this epoch is:  5.397410114877857\n",
      "the loss after processing this epoch is:  6.540033299359493\n",
      "the loss after processing this epoch is:  6.586363688111305\n",
      "the loss after processing this epoch is:  8.611885457503377\n",
      "Training completed.\n",
      "=*==*==*==*==*==*==*==*==*==*==*==*==*==*==*==*==*==*==*==*=\n"
     ]
    },
    {
     "data": {
      "text/plain": [
       "(FCNet(\n",
       "   (feedforward): Sequential(\n",
       "     (0): Linear(in_features=10000, out_features=500, bias=True)\n",
       "     (1): BatchNorm1d(500, eps=1e-05, momentum=0.1, affine=True, track_running_stats=True)\n",
       "     (2): ReLU()\n",
       "     (3): Dropout(p=0.2, inplace=False)\n",
       "     (4): Linear(in_features=500, out_features=100, bias=True)\n",
       "     (5): BatchNorm1d(100, eps=1e-05, momentum=0.1, affine=True, track_running_stats=True)\n",
       "     (6): ReLU()\n",
       "     (7): Dropout(p=0.2, inplace=False)\n",
       "     (8): Linear(in_features=100, out_features=25, bias=True)\n",
       "     (9): BatchNorm1d(25, eps=1e-05, momentum=0.1, affine=True, track_running_stats=True)\n",
       "     (10): ReLU()\n",
       "     (11): Dropout(p=0.2, inplace=False)\n",
       "     (12): Linear(in_features=25, out_features=5, bias=True)\n",
       "   )\n",
       " ),\n",
       " [102.44340233504772,\n",
       "  60.36401207745075,\n",
       "  49.95164620876312,\n",
       "  44.41898483783007,\n",
       "  40.57912228256464,\n",
       "  32.43967946060002,\n",
       "  32.54053814895451,\n",
       "  27.733343051746488,\n",
       "  27.265528650954366,\n",
       "  24.37714168149978,\n",
       "  22.873962433077395,\n",
       "  22.23516653571278,\n",
       "  19.56723676994443,\n",
       "  18.291220301762223,\n",
       "  19.25081232469529,\n",
       "  16.833928701467812,\n",
       "  17.040104924235493,\n",
       "  14.875592830125242,\n",
       "  16.920299199875444,\n",
       "  13.08588885422796,\n",
       "  13.96103353984654,\n",
       "  12.91927794041112,\n",
       "  12.588151231175289,\n",
       "  11.939758970402181,\n",
       "  12.657698976574466,\n",
       "  10.404678504681215,\n",
       "  12.01931608770974,\n",
       "  10.749737397301942,\n",
       "  9.961096756509505,\n",
       "  10.3203135561198,\n",
       "  8.584743037470616,\n",
       "  10.237715437193401,\n",
       "  9.054775692755356,\n",
       "  10.411871068587061,\n",
       "  8.889119846513495,\n",
       "  8.803446650970727,\n",
       "  8.812725191703066,\n",
       "  7.762589601916261,\n",
       "  8.07789410080295,\n",
       "  7.074081531842239,\n",
       "  7.921981134888483,\n",
       "  6.686205542529933,\n",
       "  8.013209158438258,\n",
       "  7.5369612503563985,\n",
       "  7.216957926400937,\n",
       "  6.658684168534819,\n",
       "  5.397410114877857,\n",
       "  6.540033299359493,\n",
       "  6.586363688111305,\n",
       "  8.611885457503377])"
      ]
     },
     "execution_count": 4,
     "metadata": {},
     "output_type": "execute_result"
    }
   ],
   "source": [
    "train_model(fc_model, train_loader, 50)"
   ]
  },
  {
   "cell_type": "code",
   "execution_count": 5,
   "metadata": {},
   "outputs": [
    {
     "name": "stdout",
     "output_type": "stream",
     "text": [
      "The classifier accuracy is:  77.5\n"
     ]
    },
    {
     "data": {
      "text/plain": [
       "0.775"
      ]
     },
     "execution_count": 5,
     "metadata": {},
     "output_type": "execute_result"
    }
   ],
   "source": [
    "test_model(fc_model, test_loader)"
   ]
  },
  {
   "cell_type": "code",
   "execution_count": null,
   "metadata": {},
   "outputs": [],
   "source": []
  }
 ],
 "metadata": {
  "kernelspec": {
   "display_name": "Python 3",
   "language": "python",
   "name": "python3"
  },
  "language_info": {
   "codemirror_mode": {
    "name": "ipython",
    "version": 3
   },
   "file_extension": ".py",
   "mimetype": "text/x-python",
   "name": "python",
   "nbconvert_exporter": "python",
   "pygments_lexer": "ipython3",
   "version": "3.7.3"
  }
 },
 "nbformat": 4,
 "nbformat_minor": 2
}
