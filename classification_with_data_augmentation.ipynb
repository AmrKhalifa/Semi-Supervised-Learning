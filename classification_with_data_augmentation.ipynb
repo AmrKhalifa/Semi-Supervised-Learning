{
 "cells": [
  {
   "cell_type": "code",
   "execution_count": 1,
   "metadata": {},
   "outputs": [],
   "source": [
    "from data_processor import test_loader, unlabeled_loader\n",
    "import torch\n",
    "import torch.nn as nn\n",
    "from torchvision import models, datasets\n",
    "import matplotlib.pyplot as plt\n",
    "import numpy as np\n",
    "from sklearn.semi_supervised import LabelSpreading\n",
    "from models import CNNet, train_model, test_model\n",
    "import torchvision.transforms as transforms\n",
    "import glob\n",
    "import matplotlib.pyplot as plt\n",
    "import time\n",
    "from torch.utils.data import DataLoader, Dataset\n",
    "from PIL import Image\n",
    "from utils import show_batch"
   ]
  },
  {
   "cell_type": "code",
   "execution_count": 2,
   "metadata": {},
   "outputs": [],
   "source": [
    "use_cuda = True\n",
    "device = torch.device(\"cuda\" if (use_cuda and torch.cuda.is_available()) else \"cpu\")"
   ]
  },
  {
   "cell_type": "code",
   "execution_count": 3,
   "metadata": {},
   "outputs": [],
   "source": [
    "transformation = transforms.Compose([\n",
    "    \n",
    "     transforms.Resize((100, 100)),\n",
    "     transforms.RandomHorizontalFlip(p=0.1),\n",
    "     transforms.RandomRotation(degrees=(-45, 45)),\n",
    "     transforms.RandomRotation(degrees=(-90, 90)),\n",
    "     transforms.RandomVerticalFlip(p=0.1),\n",
    "     transforms.Grayscale(),\n",
    "     transforms.ToTensor(),\n",
    "     ])"
   ]
  },
  {
   "cell_type": "code",
   "execution_count": 4,
   "metadata": {},
   "outputs": [],
   "source": [
    "train_data_path = './semi_supervised_data/train_data'\n",
    "#test_data_path = './semi_supervised_data/test_data'"
   ]
  },
  {
   "cell_type": "code",
   "execution_count": 8,
   "metadata": {},
   "outputs": [],
   "source": [
    "\ttrain_set = datasets.ImageFolder(\n",
    "\t    root=train_data_path,\n",
    "\t    transform = transformation)\n",
    "    \n",
    "train_loader = DataLoader(dataset=train_set, batch_size=265, shuffle=True)"
   ]
  },
  {
   "cell_type": "code",
   "execution_count": 17,
   "metadata": {},
   "outputs": [],
   "source": [
    "model = CNNet().to(device)"
   ]
  },
  {
   "cell_type": "code",
   "execution_count": 18,
   "metadata": {},
   "outputs": [
    {
     "name": "stdout",
     "output_type": "stream",
     "text": [
      "started training ...\n",
      "the loss after processing this epoch is:  17.80903546512127\n",
      "the loss after processing this epoch is:  8.535387754440308\n",
      "the loss after processing this epoch is:  6.527937471866608\n",
      "the loss after processing this epoch is:  5.921150594949722\n",
      "the loss after processing this epoch is:  5.729178436100483\n",
      "the loss after processing this epoch is:  4.88899601995945\n",
      "the loss after processing this epoch is:  4.755133427679539\n",
      "the loss after processing this epoch is:  4.7358812764286995\n",
      "the loss after processing this epoch is:  4.175829879939556\n",
      "the loss after processing this epoch is:  3.9624533876776695\n",
      "the loss after processing this epoch is:  4.990725323557854\n",
      "the loss after processing this epoch is:  3.8173921927809715\n",
      "the loss after processing this epoch is:  3.713423900306225\n",
      "the loss after processing this epoch is:  4.256893925368786\n",
      "the loss after processing this epoch is:  3.714651621878147\n",
      "the loss after processing this epoch is:  3.6875503584742546\n",
      "the loss after processing this epoch is:  3.20243102312088\n",
      "the loss after processing this epoch is:  3.329286899417639\n",
      "the loss after processing this epoch is:  3.4414174035191536\n",
      "the loss after processing this epoch is:  2.9454570338129997\n",
      "the loss after processing this epoch is:  3.5671291388571262\n",
      "the loss after processing this epoch is:  3.4536789022386074\n",
      "the loss after processing this epoch is:  3.3690539821982384\n",
      "the loss after processing this epoch is:  3.234070025384426\n",
      "the loss after processing this epoch is:  2.8594451621174812\n",
      "the loss after processing this epoch is:  3.5286305397748947\n",
      "the loss after processing this epoch is:  2.852493315935135\n",
      "the loss after processing this epoch is:  2.895134709775448\n",
      "the loss after processing this epoch is:  2.56629953160882\n",
      "the loss after processing this epoch is:  2.749871937558055\n",
      "the loss after processing this epoch is:  2.895200192928314\n",
      "the loss after processing this epoch is:  2.8858908116817474\n",
      "the loss after processing this epoch is:  2.628391768783331\n",
      "the loss after processing this epoch is:  2.810425728559494\n",
      "the loss after processing this epoch is:  2.5324992183595896\n",
      "the loss after processing this epoch is:  2.5293944887816906\n",
      "the loss after processing this epoch is:  2.4663320127874613\n",
      "the loss after processing this epoch is:  2.3155921809375286\n",
      "the loss after processing this epoch is:  2.2989972196519375\n",
      "the loss after processing this epoch is:  2.2660762537270784\n",
      "the loss after processing this epoch is:  2.5815318264067173\n",
      "the loss after processing this epoch is:  2.3854717519134283\n",
      "the loss after processing this epoch is:  2.4436968825757504\n",
      "the loss after processing this epoch is:  2.275278877466917\n",
      "the loss after processing this epoch is:  2.6798157431185246\n",
      "the loss after processing this epoch is:  2.5380632132291794\n",
      "the loss after processing this epoch is:  2.280081894248724\n",
      "the loss after processing this epoch is:  2.2948450595140457\n",
      "the loss after processing this epoch is:  2.0324454363435507\n",
      "the loss after processing this epoch is:  1.9014787655323744\n",
      "Training completed.\n",
      "=*==*==*==*==*==*==*==*==*==*==*==*==*==*==*==*==*==*==*==*=\n"
     ]
    }
   ],
   "source": [
    "trained_model, loss = train_model(model, train_loader, 50)"
   ]
  },
  {
   "cell_type": "code",
   "execution_count": 19,
   "metadata": {},
   "outputs": [],
   "source": [
    "torch.save(trained_model, \"trained_models/trainedCNN_augm\")"
   ]
  },
  {
   "cell_type": "code",
   "execution_count": 20,
   "metadata": {},
   "outputs": [
    {
     "name": "stdout",
     "output_type": "stream",
     "text": [
      "The classifier accuracy is:  71.07142857142857\n"
     ]
    },
    {
     "data": {
      "text/plain": [
       "0.7107142857142857"
      ]
     },
     "execution_count": 20,
     "metadata": {},
     "output_type": "execute_result"
    }
   ],
   "source": [
    "test_model(trained_model, test_loader)"
   ]
  }
 ],
 "metadata": {
  "kernelspec": {
   "display_name": "Python 3",
   "language": "python",
   "name": "python3"
  },
  "language_info": {
   "codemirror_mode": {
    "name": "ipython",
    "version": 3
   },
   "file_extension": ".py",
   "mimetype": "text/x-python",
   "name": "python",
   "nbconvert_exporter": "python",
   "pygments_lexer": "ipython3",
   "version": "3.7.6"
  }
 },
 "nbformat": 4,
 "nbformat_minor": 2
}
